{
 "cells": [
  {
   "cell_type": "code",
   "execution_count": 1,
   "id": "5478dd09",
   "metadata": {},
   "outputs": [],
   "source": [
    "# Import the random module.\n",
    "import random"
   ]
  },
  {
   "cell_type": "code",
   "execution_count": 4,
   "id": "44962fdb",
   "metadata": {},
   "outputs": [
    {
     "data": {
      "text/plain": [
       "-58"
      ]
     },
     "execution_count": 4,
     "metadata": {},
     "output_type": "execute_result"
    }
   ],
   "source": [
    "random.randint(-90, 90)"
   ]
  },
  {
   "cell_type": "code",
   "execution_count": 5,
   "id": "75a695e6",
   "metadata": {},
   "outputs": [],
   "source": [
    "x = 1\n",
    "latitudes = []\n",
    "while x < 11:\n",
    "    random_lat = random.randint(-90, 89) + random.random()\n",
    "    latitudes.append(random_lat)\n",
    "    x += 1"
   ]
  },
  {
   "cell_type": "code",
   "execution_count": 6,
   "id": "5813d24b",
   "metadata": {},
   "outputs": [
    {
     "data": {
      "text/plain": [
       "[-29.39103974866388,\n",
       " 28.776722785460848,\n",
       " 20.869883392299798,\n",
       " 77.06826873049177,\n",
       " -14.159418873617442,\n",
       " -19.020903711032812,\n",
       " 15.716290471598843,\n",
       " -48.683719663851434,\n",
       " -20.311603992487836,\n",
       " -88.08156802479087]"
      ]
     },
     "execution_count": 6,
     "metadata": {},
     "output_type": "execute_result"
    }
   ],
   "source": [
    "latitudes"
   ]
  },
  {
   "cell_type": "code",
   "execution_count": 7,
   "id": "9cd62846",
   "metadata": {},
   "outputs": [
    {
     "data": {
      "text/plain": [
       "-24"
      ]
     },
     "execution_count": 7,
     "metadata": {},
     "output_type": "execute_result"
    }
   ],
   "source": [
    "random.randrange(-90, 90, step=1)"
   ]
  },
  {
   "cell_type": "code",
   "execution_count": 8,
   "id": "2c6cc3e4",
   "metadata": {},
   "outputs": [
    {
     "data": {
      "text/plain": [
       "-6"
      ]
     },
     "execution_count": 8,
     "metadata": {},
     "output_type": "execute_result"
    }
   ],
   "source": [
    "random.randrange(-90, 90, step=3)"
   ]
  },
  {
   "cell_type": "code",
   "execution_count": 9,
   "id": "96539346",
   "metadata": {},
   "outputs": [
    {
     "data": {
      "text/plain": [
       "-5.595087623371697"
      ]
     },
     "execution_count": 9,
     "metadata": {},
     "output_type": "execute_result"
    }
   ],
   "source": [
    "random.uniform(-90, 90)"
   ]
  },
  {
   "cell_type": "code",
   "execution_count": 10,
   "id": "fed8b360",
   "metadata": {},
   "outputs": [],
   "source": [
    "# Import the NumPy module.\n",
    "import numpy as np"
   ]
  },
  {
   "cell_type": "code",
   "execution_count": 11,
   "id": "9ceac305",
   "metadata": {},
   "outputs": [
    {
     "data": {
      "text/plain": [
       "0.9407942125434801"
      ]
     },
     "execution_count": 11,
     "metadata": {},
     "output_type": "execute_result"
    }
   ],
   "source": [
    "np.random.uniform(-90.000, 90.000)"
   ]
  },
  {
   "cell_type": "code",
   "execution_count": 12,
   "id": "6acca61b",
   "metadata": {},
   "outputs": [
    {
     "data": {
      "text/plain": [
       "-33.54020513015057"
      ]
     },
     "execution_count": 12,
     "metadata": {},
     "output_type": "execute_result"
    }
   ],
   "source": [
    "np.random.uniform(low=-90, high=90)"
   ]
  },
  {
   "cell_type": "code",
   "execution_count": 13,
   "id": "aced97b8",
   "metadata": {},
   "outputs": [
    {
     "data": {
      "text/plain": [
       "array([-65.78001054,  16.34810443,  12.27394502, -80.53433826,\n",
       "       -85.53566889,  23.70461548,  47.50614247,   3.23902535,\n",
       "        77.02644564, -68.72911118, -24.9147814 , -24.90357595,\n",
       "        69.45945113,  75.72453705, -21.83691324, -36.44922339,\n",
       "       -31.08949352, -24.0061638 ,  14.31150539, -80.17798039,\n",
       "        64.57104332, -78.491109  , -29.95080181, -38.76113771,\n",
       "       -67.15545139, -87.36576155, -28.73708443,  45.46282247,\n",
       "        77.67740445,  54.6597172 ,   0.72559283,  -2.80089603,\n",
       "       -32.14041349,  32.91377533, -33.67209877,   6.24763834,\n",
       "       -20.51647153,  62.75388978, -61.35872085,  74.37598749,\n",
       "       -86.19612833,  -8.43737661,  46.33810355,   8.11050157,\n",
       "       -11.75168434,  46.06676937, -59.92985346,  59.24844782,\n",
       "        37.49946867, -47.02081374])"
      ]
     },
     "execution_count": 13,
     "metadata": {},
     "output_type": "execute_result"
    }
   ],
   "source": [
    "np.random.uniform(-90.000, 90.000, size=50)"
   ]
  },
  {
   "cell_type": "code",
   "execution_count": 14,
   "id": "e386133f",
   "metadata": {},
   "outputs": [],
   "source": [
    "# Import timeit.\n",
    "import timeit"
   ]
  },
  {
   "cell_type": "code",
   "execution_count": 15,
   "id": "aca45c70",
   "metadata": {},
   "outputs": [
    {
     "name": "stdout",
     "output_type": "stream",
     "text": [
      "18.6 µs ± 1.17 µs per loop (mean ± std. dev. of 7 runs, 10000 loops each)\n"
     ]
    }
   ],
   "source": [
    "%timeit np.random.uniform(-90.000, 90.000, size=1500)"
   ]
  },
  {
   "cell_type": "code",
   "execution_count": 16,
   "id": "1bb89af6",
   "metadata": {},
   "outputs": [
    {
     "name": "stdout",
     "output_type": "stream",
     "text": [
      "2.03 ms ± 10 µs per loop (mean ± std. dev. of 7 runs, 100 loops each)\n"
     ]
    }
   ],
   "source": [
    "def latitudes(size):\n",
    "    latitudes = []\n",
    "    x = 0\n",
    "    while x < (size):\n",
    "        random_lat = random.randint(-90, 90) + random.random()\n",
    "        latitudes.append(random_lat)\n",
    "        x += 1\n",
    "    return latitudes\n",
    "# Call the function with 1500.\n",
    "%timeit latitudes(1500)"
   ]
  },
  {
   "cell_type": "code",
   "execution_count": 23,
   "id": "9631ec19",
   "metadata": {},
   "outputs": [
    {
     "name": "stdout",
     "output_type": "stream",
     "text": [
      "3.35 ms ± 154 µs per loop (mean ± std. dev. of 7 runs, 100 loops each)\n"
     ]
    }
   ],
   "source": [
    "def lats(size):\n",
    "    lats = []\n",
    "    x = 0\n",
    "    while x < (size):\n",
    "        lats.append(np.random.uniform(-90.000, 90.000))\n",
    "        x += 1\n",
    "        \n",
    "    return lats\n",
    "\n",
    "# Call the function with 1500.\n",
    "%timeit lats(1500)"
   ]
  },
  {
   "cell_type": "code",
   "execution_count": null,
   "id": "9d7f9f26",
   "metadata": {},
   "outputs": [],
   "source": []
  }
 ],
 "metadata": {
  "kernelspec": {
   "display_name": "PythonData",
   "language": "python",
   "name": "pythondata"
  },
  "language_info": {
   "codemirror_mode": {
    "name": "ipython",
    "version": 3
   },
   "file_extension": ".py",
   "mimetype": "text/x-python",
   "name": "python",
   "nbconvert_exporter": "python",
   "pygments_lexer": "ipython3",
   "version": "3.7.10"
  }
 },
 "nbformat": 4,
 "nbformat_minor": 5
}
